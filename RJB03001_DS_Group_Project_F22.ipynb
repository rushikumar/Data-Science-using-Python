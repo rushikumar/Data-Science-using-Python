{
  "nbformat": 4,
  "nbformat_minor": 0,
  "metadata": {
    "colab": {
      "provenance": [],
      "include_colab_link": true
    },
    "kernelspec": {
      "name": "python3",
      "display_name": "Python 3"
    },
    "language_info": {
      "name": "python"
    }
  },
  "cells": [
    {
      "cell_type": "markdown",
      "metadata": {
        "id": "view-in-github",
        "colab_type": "text"
      },
      "source": [
        "<a href=\"https://colab.research.google.com/github/rushikumar/Data-Science-using-Python/blob/main/RJB03001_DS_Group_Project_F22.ipynb\" target=\"_parent\"><img src=\"https://colab.research.google.com/assets/colab-badge.svg\" alt=\"Open In Colab\"/></a>"
      ]
    },
    {
      "cell_type": "markdown",
      "source": [
        "# DS Group Project (Fall 2022): Energy Demand Forecasting\n",
        "--------------------------------\n",
        "**Dr. Dave Wanik - University of Connecticut - Department of Operations and Information Management**\n",
        "\n",
        "--------------------------\n",
        "\n",
        "**Your Group Members:** \n",
        "\n",
        "In this project, you will be fitting, evaluating and interpreting models related to energy demand forecasting models. The kicker? You and your group will be competing against everyone else in the class! Highest grade (best MAE and RMSE) gets a 100, lowest grade gets an 80, and every other grade falls evenly dispersed between 80 and 100. Additional points will be removed if quality of notebook is poor. See rubric.\n",
        "\n",
        "You are welcome to submit additional notebooks as an appendix - we only want your best work here, and your notebook should run from start to finish in 5 minutes or less (reach out to Dave early if this is an issue.)\n",
        "\n",
        "Keep your modeling strategy to YOURSELVES! You may not to talk to other groups or students but you may ask the professor questions. Good luck!"
      ],
      "metadata": {
        "id": "ZX7cQyVvi0pD"
      }
    },
    {
      "cell_type": "markdown",
      "source": [
        "**Note:** You may only use packages and methods covered in class. No ARIMA models and no deep learning models! You are welcome to use third-party feature engineering libraries. You may use autoML - but remember that it takes a long time to fit and that you may do better by focusing on feature engineering instead of modeling!"
      ],
      "metadata": {
        "id": "jQcGvxzvkRtB"
      }
    },
    {
      "cell_type": "code",
      "execution_count": null,
      "metadata": {
        "colab": {
          "base_uri": "https://localhost:8080/"
        },
        "id": "qwoDp0TsjdfE",
        "outputId": "58e305ac-2077-4574-9c38-8baeb2149a7a"
      },
      "outputs": [
        {
          "output_type": "stream",
          "name": "stdout",
          "text": [
            "Downloading...\n",
            "From: https://drive.google.com/uc?id=1xYe3vCKTLeaJKpMDzv57ppCSWK_LCJ5V\n",
            "To: /content/BDL_cleanweather_energy (1).csv\n",
            "\r  0% 0.00/7.38M [00:00<?, ?B/s]\r 64% 4.72M/7.38M [00:00<00:00, 41.8MB/s]\r100% 7.38M/7.38M [00:00<00:00, 59.4MB/s]\n"
          ]
        }
      ],
      "source": [
        "# https://drive.google.com/file/d/1xYe3vCKTLeaJKpMDzv57ppCSWK_LCJ5V/view?usp=sharing\n",
        "!gdown 1xYe3vCKTLeaJKpMDzv57ppCSWK_LCJ5V"
      ]
    },
    {
      "cell_type": "code",
      "source": [
        "import pandas as pd\n",
        "df = pd.read_csv('BDL_cleanweather_energy (1).csv')"
      ],
      "metadata": {
        "id": "iLnKeIrljmi1"
      },
      "execution_count": null,
      "outputs": []
    },
    {
      "cell_type": "code",
      "source": [
        "df.info()"
      ],
      "metadata": {
        "colab": {
          "base_uri": "https://localhost:8080/"
        },
        "id": "Pl2aA-ZtkpKR",
        "outputId": "eeb613cb-2100-4703-90f4-0dce384d077f"
      },
      "execution_count": null,
      "outputs": [
        {
          "output_type": "stream",
          "name": "stdout",
          "text": [
            "<class 'pandas.core.frame.DataFrame'>\n",
            "RangeIndex: 96427 entries, 0 to 96426\n",
            "Data columns (total 11 columns):\n",
            " #   Column    Non-Null Count  Dtype  \n",
            "---  ------    --------------  -----  \n",
            " 0   Datetime  96427 non-null  object \n",
            " 1   Demand    96427 non-null  float64\n",
            " 2   BDL_tmpf  96160 non-null  float64\n",
            " 3   BDL_dwpf  96160 non-null  float64\n",
            " 4   BDL_relh  96160 non-null  float64\n",
            " 5   BDL_drct  96160 non-null  float64\n",
            " 6   BDL_sknt  96160 non-null  float64\n",
            " 7   BDL_p01i  96160 non-null  float64\n",
            " 8   BDL_alti  96160 non-null  float64\n",
            " 9   BDL_mslp  96160 non-null  float64\n",
            " 10  BDL_vsby  96160 non-null  float64\n",
            "dtypes: float64(10), object(1)\n",
            "memory usage: 8.1+ MB\n"
          ]
        }
      ]
    },
    {
      "cell_type": "markdown",
      "source": [
        "Note that your data is currently sorted from newest to oldest. Make sure you sort from oldest to newest before performing any analysis or feature engineering."
      ],
      "metadata": {
        "id": "a7GUDfyIlxqd"
      }
    },
    {
      "cell_type": "markdown",
      "source": [
        "## Data Dictionary\n",
        "Scroll down to see the data dictionary.\n",
        "* https://mesonet.agron.iastate.edu/request/download.phtml\n",
        "\n",
        "The Demand column is energy usage across all of New England. The weather data is for Bradley Airport in Connecticut (BDL)."
      ],
      "metadata": {
        "id": "N2IDN7uxq-mY"
      }
    },
    {
      "cell_type": "markdown",
      "source": [
        "# (15 points) Exploratory Data Analysis\n",
        "Create at least five interesting plots and tables that motivates your problem. Provide rich descriptions of each figure/table. Make a subheader for each plot and table so it's easy to grade."
      ],
      "metadata": {
        "id": "o1cbxgpSjmLV"
      }
    },
    {
      "cell_type": "code",
      "source": [],
      "metadata": {
        "id": "LOYvVQ60j0wm"
      },
      "execution_count": null,
      "outputs": []
    },
    {
      "cell_type": "markdown",
      "source": [
        "# (0 pts - up to you!) Feature Engineering\n",
        "You may NOT use past energy usage as a feature in the model. Keep the target variable df['Demand'] separate from the other X features.\n",
        "\n",
        "While it will be useful to set the datetime column as the index (to create temporal features for modeling), you should not use the raw time stamp in your model.\n",
        "\n",
        "You are welcome to grab additional dataset to enrich your features for modeling - just be sure not to leak the target variable! Ask Dave if you want to make sure before submitting."
      ],
      "metadata": {
        "id": "S58MWbDHjohL"
      }
    },
    {
      "cell_type": "code",
      "source": [],
      "metadata": {
        "id": "z0mE0ib2j0NI"
      },
      "execution_count": null,
      "outputs": []
    },
    {
      "cell_type": "markdown",
      "source": [
        "# Train/Test Split\n",
        "Everyone will use Jan 1, 2019 and beyond as test data. Everything before this date is train data."
      ],
      "metadata": {
        "id": "Pdr2wvEPjtGW"
      }
    },
    {
      "cell_type": "code",
      "source": [],
      "metadata": {
        "id": "HX1BvGthjz3r"
      },
      "execution_count": null,
      "outputs": []
    },
    {
      "cell_type": "markdown",
      "source": [
        "# (5 pts) Baseline Model\n",
        "You should calculate at least ONE time series baseline model (a linear regression, mean only model, using yesterday's energy usage as today's energy usage...) Your choice. Make sure you describe what you did and compare your model to it later on."
      ],
      "metadata": {
        "id": "eLFOMzDsjqJy"
      }
    },
    {
      "cell_type": "code",
      "source": [],
      "metadata": {
        "id": "EbNxKeKMjzLu"
      },
      "execution_count": null,
      "outputs": []
    },
    {
      "cell_type": "markdown",
      "source": [
        "# (10 pts) Your Best Model\n",
        "We only want to see your best model. Feel free to experiment in other notebooks (you can submit as an appendix) to identify the best hyperparameters. But at the end of the day, we only want your BEST.\n",
        "\n",
        "If you used autoML then it should be in a different notebook - we only want your best pipeline here! Your model should train very quickly."
      ],
      "metadata": {
        "id": "yNwhi2uNjviR"
      }
    },
    {
      "cell_type": "code",
      "source": [],
      "metadata": {
        "id": "gzvXf4m3jiLM"
      },
      "execution_count": null,
      "outputs": []
    },
    {
      "cell_type": "markdown",
      "source": [
        "# (30 pts total) Model Evaluation\n",
        "Now that your model has fit, it's time to dig into the results."
      ],
      "metadata": {
        "id": "6Q8v9eNhj2C2"
      }
    },
    {
      "cell_type": "markdown",
      "source": [
        "## (15 points) Quantitative\n",
        "You should calculate the R2, MAE and RMSE (make sure you check the arguments!)"
      ],
      "metadata": {
        "id": "D2wsHVmWj4GN"
      }
    },
    {
      "cell_type": "code",
      "source": [],
      "metadata": {
        "id": "8Dt4Uy-Nj8fE"
      },
      "execution_count": null,
      "outputs": []
    },
    {
      "cell_type": "markdown",
      "source": [
        "## (15 points) Qualitative\n",
        "Feel free to create time series plots and go into detail on where your model was very successful vs. very poor. I want you to show off!\n",
        "\n",
        "At the very least you should have:\n",
        "* scatterplots of actual vs. predicted\n",
        "* time series plots of actual vs. predicted\n",
        "\n",
        "Create at least three other interesting plots to show the value of your model. Add rich captions to each plot that describes the value of what you did."
      ],
      "metadata": {
        "id": "XeFAtzZ7j6QO"
      }
    },
    {
      "cell_type": "code",
      "source": [],
      "metadata": {
        "id": "oNtpHdwKj8-x"
      },
      "execution_count": null,
      "outputs": []
    },
    {
      "cell_type": "markdown",
      "source": [
        "# (30 points total) Model Interpretability"
      ],
      "metadata": {
        "id": "TCooylS7j9bs"
      }
    },
    {
      "cell_type": "markdown",
      "source": [
        "## (15 points) Permutation Importance\n",
        "Which variables are most important? Show as a boxplot."
      ],
      "metadata": {
        "id": "PbPtTNMWkEmw"
      }
    },
    {
      "cell_type": "code",
      "source": [],
      "metadata": {
        "id": "w1XoIFEKkLt9"
      },
      "execution_count": null,
      "outputs": []
    },
    {
      "cell_type": "markdown",
      "source": [
        "## (15 points) Partial Dependence\n",
        "How is the model treating your important variables? Does anything surprise you?"
      ],
      "metadata": {
        "id": "E9KfaJ5qkHE3"
      }
    },
    {
      "cell_type": "code",
      "source": [],
      "metadata": {
        "id": "Oi424Ry-kMZG"
      },
      "execution_count": null,
      "outputs": []
    },
    {
      "cell_type": "markdown",
      "source": [
        "# (10 pts) Conclusion\n",
        "* My best test MAE was:\n",
        "* My best test RMSE was:\n",
        "\n"
      ],
      "metadata": {
        "id": "aHn6ubSokJXj"
      }
    },
    {
      "cell_type": "code",
      "source": [],
      "metadata": {
        "id": "FPFEYdL_kNH0"
      },
      "execution_count": null,
      "outputs": []
    },
    {
      "cell_type": "markdown",
      "source": [
        "# Rubric\n",
        "The most important thing to start is your test MAE and test RMSE. We will choose the winner based on the composite highest rank for each score.\n",
        "\n",
        "For example, if you had the 3rd best MAE and 8th best RMSE, your composite rank would be 5.5 - then we sort the class composite ranks from high to low. Good luck!\n",
        "\n",
        "We will take off up to 15 points per section if content is lacking, poor quality or missing - treat everything as important. We expect lots of 'Text' cells with plain language descriptions (should read like a technical report), and of course the code should be rich with comments.\n",
        "\n"
      ],
      "metadata": {
        "id": "_Bu0fGHDnQmG"
      }
    }
  ]
}